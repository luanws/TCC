{
 "cells": [
  {
   "cell_type": "code",
   "execution_count": null,
   "metadata": {},
   "outputs": [],
   "source": [
    "from typing import List\n",
    "\n",
    "import numpy as np\n",
    "from matplotlib import pyplot as plt\n",
    "\n",
    "from src.models.geometric_figure import GeometricFigure\n",
    "from src.services.geometric_figure import (get_geometric_figures,\n",
    "                                           plot_geometric_figures,\n",
    "                                           preprocess_input)"
   ]
  },
  {
   "cell_type": "code",
   "execution_count": null,
   "metadata": {},
   "outputs": [],
   "source": [
    "IMAGE_SIZE = (128, 128)\n",
    "DATA_VERSION = '2023-04-02'"
   ]
  },
  {
   "cell_type": "code",
   "execution_count": null,
   "metadata": {},
   "outputs": [],
   "source": [
    "geometric_figures: List[GeometricFigure] = get_geometric_figures(f'data/{DATA_VERSION}', IMAGE_SIZE)\n",
    "print(f'Loaded {len(geometric_figures)} geometric figures')"
   ]
  },
  {
   "cell_type": "code",
   "execution_count": null,
   "metadata": {},
   "outputs": [],
   "source": [
    "number_of_plots = 5\n",
    "random_geometric_figures = [geometric_figures[i] for i in np.random.randint(0, len(geometric_figures), number_of_plots)]\n",
    "plot_geometric_figures(random_geometric_figures, number_of_plots)\n",
    "plt.show()"
   ]
  },
  {
   "cell_type": "code",
   "execution_count": null,
   "metadata": {},
   "outputs": [],
   "source": [
    "def get_random_image():\n",
    "    return geometric_figures[np.random.randint(0, len(geometric_figures))]['image']\n",
    "\n",
    "\n",
    "def get_random_images(n: int):\n",
    "    geometric_figures_choice = np.random.choice(geometric_figures, n)\n",
    "    return [geometric_figure['image'] for geometric_figure in geometric_figures_choice]"
   ]
  },
  {
   "attachments": {},
   "cell_type": "markdown",
   "metadata": {},
   "source": [
    "Verificação dos canais de cor da imagem para identificar o canal de maior importância"
   ]
  },
  {
   "cell_type": "code",
   "execution_count": null,
   "metadata": {},
   "outputs": [],
   "source": [
    "random_image = get_random_image()\n",
    "def plot_separate_color_channels_image(image: np.ndarray) -> None:\n",
    "    fig, axs = plt.subplots(1, 3, figsize=(15, 15))\n",
    "    for i in range(3):\n",
    "        axs[i].imshow(image[:, :, i], cmap='gray')\n",
    "        axs[i].set_xticks([])\n",
    "        axs[i].set_yticks([])\n",
    "    fig.patch.set_facecolor('white')\n",
    "\n",
    "plot_separate_color_channels_image(random_image)\n",
    "plt.show()"
   ]
  },
  {
   "attachments": {},
   "cell_type": "markdown",
   "metadata": {},
   "source": [
    "Pré processamento"
   ]
  },
  {
   "cell_type": "code",
   "execution_count": null,
   "metadata": {},
   "outputs": [],
   "source": [
    "rows = 2\n",
    "columns = 7\n",
    "size = 5\n",
    "random_images = get_random_images(rows * columns)\n",
    "fig, axs = plt.subplots(rows, columns, figsize=(size * columns, size * rows))\n",
    "axs = axs.flatten()\n",
    "for i, random_image in enumerate(random_images):\n",
    "    x = preprocess_input(random_image)\n",
    "    axs[i].imshow(x, cmap='gray')\n",
    "    axs[i].set_xticks([])\n",
    "    axs[i].set_yticks([])\n",
    "fig.patch.set_facecolor('white')\n",
    "plt.show()"
   ]
  },
  {
   "cell_type": "code",
   "execution_count": null,
   "metadata": {},
   "outputs": [],
   "source": [
    "number_of_plots = len(geometric_figures)\n",
    "rows = np.ceil(number_of_plots / columns).astype(int)\n",
    "fig, axs = plt.subplots(rows, columns, figsize=(size * columns, size * rows))\n",
    "axs = axs.flatten()\n",
    "for i, gf in enumerate(geometric_figures):\n",
    "    axs[i].set_title(i + 1)\n",
    "    x = preprocess_input(gf['image'])\n",
    "    axs[i].imshow(x, cmap='gray')\n",
    "    axs[i].set_xticks([])\n",
    "    axs[i].set_yticks([])\n",
    "fig.patch.set_facecolor('white')\n",
    "plt.show()"
   ]
  }
 ],
 "metadata": {
  "kernelspec": {
   "display_name": "venv",
   "language": "python",
   "name": "python3"
  },
  "language_info": {
   "codemirror_mode": {
    "name": "ipython",
    "version": 3
   },
   "file_extension": ".py",
   "mimetype": "text/x-python",
   "name": "python",
   "nbconvert_exporter": "python",
   "pygments_lexer": "ipython3",
   "version": "3.7.6"
  },
  "orig_nbformat": 4
 },
 "nbformat": 4,
 "nbformat_minor": 2
}
