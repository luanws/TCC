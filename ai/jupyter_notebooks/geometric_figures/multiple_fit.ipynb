{
 "cells": [
  {
   "cell_type": "code",
   "execution_count": null,
   "metadata": {},
   "outputs": [],
   "source": [
    "from copy import deepcopy\n",
    "from datetime import datetime\n",
    "from typing import Dict, List\n",
    "\n",
    "import numpy as np\n",
    "import tensorflow as tf\n",
    "from tensorflow import keras\n",
    "\n",
    "from src.models.geometric_figure import GeometricFigure\n",
    "from src.services.geometric_figure import (get_geometric_figures,\n",
    "                                           get_input_and_output)\n",
    "from src.services.result import save_model_results"
   ]
  },
  {
   "cell_type": "code",
   "execution_count": null,
   "metadata": {},
   "outputs": [],
   "source": [
    "IMAGE_SIZE = (512, 512)\n",
    "TEST_RATIO = 0.2\n",
    "DATA_VERSION = '2023-04-03'\n",
    "MODEL_RESULTS_PATH = 'data/results.json'\n",
    "NUMBER_OF_REPETITIONS = 10"
   ]
  },
  {
   "cell_type": "code",
   "execution_count": null,
   "metadata": {},
   "outputs": [],
   "source": [
    "ai_models: Dict[str, keras.Model] = {\n",
    "    'P1': keras.Sequential([\n",
    "        keras.layers.InputLayer(input_shape=(IMAGE_SIZE[0], IMAGE_SIZE[1], 1)),\n",
    "        keras.layers.Flatten(),\n",
    "        keras.layers.Dense(128, activation='relu'),\n",
    "        keras.layers.Dense(64, activation='relu'),\n",
    "        keras.layers.Dense(32, activation='relu'),\n",
    "        keras.layers.Dense(3, activation='softmax')\n",
    "    ]),\n",
    "    'P2': keras.Sequential([\n",
    "        keras.layers.InputLayer(input_shape=(IMAGE_SIZE[0], IMAGE_SIZE[1], 1)),\n",
    "        keras.layers.Flatten(),\n",
    "        keras.layers.Dense(64, activation='relu'),\n",
    "        keras.layers.Dense(32, activation='relu'),\n",
    "        keras.layers.Dense(3, activation='softmax')\n",
    "    ]),\n",
    "    'CNN1': keras.Sequential([\n",
    "        keras.layers.InputLayer(input_shape=(IMAGE_SIZE[0], IMAGE_SIZE[1], 1)),\n",
    "        keras.layers.Conv2D(32, (3, 3), activation='relu'),\n",
    "        keras.layers.MaxPooling2D((4, 4)),\n",
    "        keras.layers.Conv2D(32, (3, 3), activation='relu'),\n",
    "        keras.layers.MaxPooling2D((4, 4)),\n",
    "        keras.layers.Flatten(),\n",
    "        keras.layers.Dense(8, activation='relu'),\n",
    "        keras.layers.Dense(3, activation='softmax')\n",
    "    ]),\n",
    "    'CNN2': keras.Sequential([\n",
    "        keras.layers.InputLayer(input_shape=(IMAGE_SIZE[0], IMAGE_SIZE[1], 1)),\n",
    "        keras.layers.Conv2D(32, (3, 3), activation='relu'),\n",
    "        keras.layers.MaxPooling2D((4, 4)),\n",
    "        keras.layers.Conv2D(64, (3, 3), activation='relu'),\n",
    "        keras.layers.MaxPooling2D((4, 4)),\n",
    "        keras.layers.Flatten(),\n",
    "        keras.layers.Dense(8, activation='relu'),\n",
    "        keras.layers.Dense(3, activation='softmax')\n",
    "    ]),\n",
    "}"
   ]
  },
  {
   "cell_type": "code",
   "execution_count": null,
   "metadata": {},
   "outputs": [],
   "source": [
    "for name, model in ai_models.items():\n",
    "    model.compile(optimizer='adam', loss='sparse_categorical_crossentropy', metrics=['accuracy'])"
   ]
  },
  {
   "cell_type": "code",
   "execution_count": null,
   "metadata": {},
   "outputs": [],
   "source": [
    "geometric_figures: List[GeometricFigure] = get_geometric_figures(f'data/{DATA_VERSION}', IMAGE_SIZE, memorize=True)\n",
    "print(f'Loaded {len(geometric_figures)} geometric figures')"
   ]
  },
  {
   "cell_type": "code",
   "execution_count": null,
   "metadata": {},
   "outputs": [],
   "source": [
    "for i in range(NUMBER_OF_REPETITIONS):\n",
    "    shuffled_geometric_figures: List[GeometricFigure] = deepcopy(geometric_figures)\n",
    "    np.random.shuffle(shuffled_geometric_figures)\n",
    "\n",
    "    x, y = zip(*[get_input_and_output(gf) for gf in shuffled_geometric_figures])\n",
    "    x = np.array(x)\n",
    "    y = np.array(y)\n",
    "\n",
    "    test_size = int(len(x) * TEST_RATIO)\n",
    "    x_train, x_test = x[:-test_size], x[-test_size:]\n",
    "    y_train, y_test = y[:-test_size], y[-test_size:]\n",
    "\n",
    "    for name, model in ai_models.items():\n",
    "        model.set_weights([np.random.normal(size=w.shape) for w in model.get_weights()])\n",
    "        print(f'Training {name}')\n",
    "        model.fit(x_train, y_train, epochs=20)\n",
    "        print(f'Evaluating {name}')\n",
    "        loss, accuracy = model.evaluate(x_test, y_test)\n",
    "        print(f'Saving {name}')\n",
    "        datetime_now = datetime.now().strftime('%Y-%m-%d %H-%M-%S')\n",
    "        model.save(f'data/models/{DATA_VERSION}/{name}/{datetime_now}.h5')\n",
    "        save_model_results(name, accuracy, datetime_now, DATA_VERSION, MODEL_RESULTS_PATH)"
   ]
  }
 ],
 "metadata": {
  "kernelspec": {
   "display_name": "venv",
   "language": "python",
   "name": "python3"
  },
  "language_info": {
   "codemirror_mode": {
    "name": "ipython",
    "version": 3
   },
   "file_extension": ".py",
   "mimetype": "text/x-python",
   "name": "python",
   "nbconvert_exporter": "python",
   "pygments_lexer": "ipython3",
   "version": "3.7.6"
  },
  "orig_nbformat": 4
 },
 "nbformat": 4,
 "nbformat_minor": 2
}
