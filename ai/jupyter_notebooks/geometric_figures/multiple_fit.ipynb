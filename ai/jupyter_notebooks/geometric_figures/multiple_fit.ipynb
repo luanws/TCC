{
 "cells": [
  {
   "cell_type": "code",
   "execution_count": null,
   "metadata": {},
   "outputs": [],
   "source": [
    "from copy import deepcopy\n",
    "from datetime import datetime\n",
    "from typing import Dict, List\n",
    "\n",
    "import numpy as np\n",
    "import tensorflow as tf\n",
    "from tensorflow import keras\n",
    "from termcolor import colored\n",
    "\n",
    "from src.models.geometric_figure import GeometricFigure\n",
    "from src.services.geometric_figure import (get_geometric_figures,\n",
    "                                           get_train_test_validation_split)\n",
    "from src.services.result import save_model_results"
   ]
  },
  {
   "cell_type": "code",
   "execution_count": null,
   "metadata": {},
   "outputs": [],
   "source": [
    "IMAGE_SIZE = (128, 128)\n",
    "TEST_RATIO = 0.2\n",
    "VALIDATION_RATIO = 0.1\n",
    "DATA_VERSIONS = ['2023-03-22', '2023-04-02', '2023-04-03']\n",
    "MODEL_RESULTS_PATH = 'data/results.json'\n",
    "NUMBER_OF_REPETITIONS = 10\n",
    "EPOCHS = 100"
   ]
  },
  {
   "cell_type": "code",
   "execution_count": null,
   "metadata": {},
   "outputs": [],
   "source": [
    "ai_models: Dict[str, keras.Model] = {\n",
    "    'P1': lambda: keras.Sequential([\n",
    "        keras.layers.InputLayer(input_shape=(IMAGE_SIZE[0], IMAGE_SIZE[1], 1)),\n",
    "        keras.layers.Flatten(),\n",
    "        keras.layers.Dense(128, activation='relu'),\n",
    "        keras.layers.Dense(64, activation='relu'),\n",
    "        keras.layers.Dense(32, activation='relu'),\n",
    "        keras.layers.Dense(3, activation='softmax')\n",
    "    ]),\n",
    "    'P2': lambda: keras.Sequential([\n",
    "        keras.layers.InputLayer(input_shape=(IMAGE_SIZE[0], IMAGE_SIZE[1], 1)),\n",
    "        keras.layers.Flatten(),\n",
    "        keras.layers.Dense(64, activation='relu'),\n",
    "        keras.layers.Dense(32, activation='relu'),\n",
    "        keras.layers.Dense(3, activation='softmax')\n",
    "    ]),\n",
    "    'CNN1': lambda: keras.Sequential([\n",
    "        keras.layers.InputLayer(input_shape=(IMAGE_SIZE[0], IMAGE_SIZE[1], 1)),\n",
    "        keras.layers.Conv2D(32, (3, 3), activation='relu'),\n",
    "        keras.layers.MaxPooling2D((4, 4)),\n",
    "        keras.layers.Conv2D(32, (3, 3), activation='relu'),\n",
    "        keras.layers.MaxPooling2D((4, 4)),\n",
    "        keras.layers.Flatten(),\n",
    "        keras.layers.Dense(8, activation='relu'),\n",
    "        keras.layers.Dense(3, activation='softmax')\n",
    "    ]),\n",
    "    'CNN2': lambda: keras.Sequential([\n",
    "        keras.layers.InputLayer(input_shape=(IMAGE_SIZE[0], IMAGE_SIZE[1], 1)),\n",
    "        keras.layers.Conv2D(32, (3, 3), activation='relu'),\n",
    "        keras.layers.MaxPooling2D((4, 4)),\n",
    "        keras.layers.Conv2D(64, (3, 3), activation='relu'),\n",
    "        keras.layers.MaxPooling2D((4, 4)),\n",
    "        keras.layers.Flatten(),\n",
    "        keras.layers.Dense(8, activation='relu'),\n",
    "        keras.layers.Dense(3, activation='softmax')\n",
    "    ]),\n",
    "}"
   ]
  },
  {
   "cell_type": "code",
   "execution_count": null,
   "metadata": {},
   "outputs": [],
   "source": [
    "geometric_figures_data_versions_dict: Dict[str, List[GeometricFigure]] = {\n",
    "    version: get_geometric_figures(f'data/{version}', IMAGE_SIZE) for version in DATA_VERSIONS\n",
    "}\n",
    "for version, geometric_figures in geometric_figures_data_versions_dict.items():\n",
    "    print(f'Loaded {colored(len(geometric_figures), \"green\")} geometric figures for version {colored(version, \"green\")}')"
   ]
  },
  {
   "cell_type": "code",
   "execution_count": null,
   "metadata": {},
   "outputs": [],
   "source": [
    "for data_version in DATA_VERSIONS:\n",
    "    geometric_figures = geometric_figures_data_versions_dict[data_version]\n",
    "    for i in range(NUMBER_OF_REPETITIONS):\n",
    "        x_train, y_train, x_test, y_test, x_validation, y_validation = get_train_test_validation_split(\n",
    "            geometric_figures,\n",
    "            test_ratio=TEST_RATIO,\n",
    "            validation_ratio=VALIDATION_RATIO\n",
    "        )\n",
    "        data_generator = keras.preprocessing.image.ImageDataGenerator(\n",
    "            rotation_range=360,\n",
    "            width_shift_range=0.1,\n",
    "            height_shift_range=0.1,\n",
    "            horizontal_flip=True,\n",
    "            vertical_flip=True,\n",
    "        )\n",
    "        train_generator = data_generator.flow(x_train, y_train)\n",
    "        for name, create_model in ai_models.items():\n",
    "            model = create_model()\n",
    "            model.compile(optimizer='adam', loss='sparse_categorical_crossentropy', metrics=['accuracy'])\n",
    "            print(f'Training {name}')\n",
    "            model.fit(train_generator, epochs=EPOCHS, validation_data=(x_validation, y_validation))\n",
    "            print(f'Evaluating {name}')\n",
    "            loss, accuracy = model.evaluate(x_test, y_test)\n",
    "            print(f'Saving {name}')\n",
    "            datetime_now = datetime.now().strftime('%Y-%m-%d %H-%M-%S')\n",
    "            model.save(f'data/models/{data_version}/{name}/{datetime_now}.h5')\n",
    "            save_model_results(name, accuracy, datetime_now, data_version, MODEL_RESULTS_PATH)"
   ]
  }
 ],
 "metadata": {
  "kernelspec": {
   "display_name": "venv",
   "language": "python",
   "name": "python3"
  },
  "language_info": {
   "codemirror_mode": {
    "name": "ipython",
    "version": 3
   },
   "file_extension": ".py",
   "mimetype": "text/x-python",
   "name": "python",
   "nbconvert_exporter": "python",
   "pygments_lexer": "ipython3",
   "version": "3.7.6"
  },
  "orig_nbformat": 4
 },
 "nbformat": 4,
 "nbformat_minor": 2
}
