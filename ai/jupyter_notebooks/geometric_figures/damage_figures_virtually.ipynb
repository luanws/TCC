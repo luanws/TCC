{
 "cells": [
  {
   "cell_type": "code",
   "execution_count": null,
   "metadata": {},
   "outputs": [],
   "source": [
    "from copy import deepcopy\n",
    "from typing import List\n",
    "\n",
    "import numpy as np\n",
    "from matplotlib import pyplot as plt\n",
    "\n",
    "from src.models.geometric_figure import GeometricFigure\n",
    "from src.services.geometric_figure import (create_damaged_geometric_figures,\n",
    "                                           damage_image, get_geometric_figures,\n",
    "                                           plot_geometric_figures)"
   ]
  },
  {
   "cell_type": "code",
   "execution_count": null,
   "metadata": {},
   "outputs": [],
   "source": [
    "IMAGE_SIZE = (128, 128)\n",
    "DATA_VERSION = '2023-04-12'"
   ]
  },
  {
   "cell_type": "code",
   "execution_count": null,
   "metadata": {},
   "outputs": [],
   "source": [
    "geometric_figures: List[GeometricFigure] = get_geometric_figures(f'data/{DATA_VERSION}', IMAGE_SIZE)\n",
    "print(f'Loaded {len(geometric_figures)} geometric figures')"
   ]
  },
  {
   "cell_type": "code",
   "execution_count": null,
   "metadata": {},
   "outputs": [],
   "source": [
    "damaged_geometric_figures = create_damaged_geometric_figures(geometric_figures)\n",
    "print(f'Created {len(damaged_geometric_figures)} damaged geometric figures')"
   ]
  },
  {
   "cell_type": "code",
   "execution_count": null,
   "metadata": {},
   "outputs": [],
   "source": [
    "number_of_plots = 7*1\n",
    "columns = 7\n",
    "random_geometric_figures = [geometric_figures[i] for i in np.random.randint(0, len(geometric_figures), number_of_plots)]\n",
    "random_damaged_geometric_figures = deepcopy(random_geometric_figures)\n",
    "for gf in random_damaged_geometric_figures:\n",
    "    gf['image'] = damage_image(gf['image'])\n",
    "plot_geometric_figures(random_geometric_figures, columns, cmap='gray')\n",
    "plot_geometric_figures(random_damaged_geometric_figures, columns, cmap='gray')\n",
    "plt.show()"
   ]
  },
  {
   "cell_type": "code",
   "execution_count": null,
   "metadata": {},
   "outputs": [],
   "source": [
    "columns = 7\n",
    "plot_geometric_figures(damaged_geometric_figures, columns, cmap='gray')\n",
    "plt.show()"
   ]
  }
 ],
 "metadata": {
  "kernelspec": {
   "display_name": "venv",
   "language": "python",
   "name": "python3"
  },
  "language_info": {
   "codemirror_mode": {
    "name": "ipython",
    "version": 3
   },
   "file_extension": ".py",
   "mimetype": "text/x-python",
   "name": "python",
   "nbconvert_exporter": "python",
   "pygments_lexer": "ipython3",
   "version": "3.7.6"
  },
  "orig_nbformat": 4
 },
 "nbformat": 4,
 "nbformat_minor": 2
}
