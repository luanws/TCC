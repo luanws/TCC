{
 "cells": [
  {
   "cell_type": "code",
   "execution_count": null,
   "metadata": {},
   "outputs": [],
   "source": [
    "import json\n",
    "import os\n",
    "from copy import deepcopy\n",
    "from typing import List\n",
    "\n",
    "import numpy as np\n",
    "from matplotlib import pyplot as plt\n",
    "\n",
    "from src.models.geometric_figure import GeometricFigure\n",
    "from src.services.geometric_figure import (create_damaged_geometric_figures,\n",
    "                                           damage_image, get_geometric_figures,\n",
    "                                           plot_geometric_figures)\n",
    "from src.utils.files import create_directory_if_not_exists"
   ]
  },
  {
   "cell_type": "code",
   "execution_count": null,
   "metadata": {},
   "outputs": [],
   "source": [
    "IMAGE_SIZE = (128, 128)\n",
    "DATA_VERSION = '2023-04-12'\n",
    "NEW_DATA_VERSION = '2023-04-24'"
   ]
  },
  {
   "cell_type": "code",
   "execution_count": null,
   "metadata": {},
   "outputs": [],
   "source": [
    "geometric_figures: List[GeometricFigure] = get_geometric_figures(f'data/{DATA_VERSION}', IMAGE_SIZE)\n",
    "print(f'Loaded {len(geometric_figures)} geometric figures')"
   ]
  },
  {
   "cell_type": "code",
   "execution_count": null,
   "metadata": {},
   "outputs": [],
   "source": [
    "damaged_geometric_figures = create_damaged_geometric_figures(geometric_figures)\n",
    "print(f'Created {len(damaged_geometric_figures)} damaged geometric figures')"
   ]
  },
  {
   "cell_type": "code",
   "execution_count": null,
   "metadata": {},
   "outputs": [],
   "source": [
    "number_of_plots = 7*1\n",
    "columns = 7\n",
    "random_geometric_figures = [geometric_figures[i] for i in np.random.randint(0, len(geometric_figures), number_of_plots)]\n",
    "random_damaged_geometric_figures = deepcopy(random_geometric_figures)\n",
    "for gf in random_damaged_geometric_figures:\n",
    "    gf['image'] = damage_image(gf['image'])\n",
    "plot_geometric_figures(random_geometric_figures, columns, cmap='gray')\n",
    "plot_geometric_figures(random_damaged_geometric_figures, columns, cmap='gray')\n",
    "plt.show()"
   ]
  },
  {
   "cell_type": "code",
   "execution_count": null,
   "metadata": {},
   "outputs": [],
   "source": [
    "columns = 7\n",
    "plot_geometric_figures(damaged_geometric_figures, columns, cmap='gray')\n",
    "plt.show()"
   ]
  },
  {
   "cell_type": "code",
   "execution_count": null,
   "metadata": {},
   "outputs": [],
   "source": [
    "path = os.path.join('data', NEW_DATA_VERSION)\n",
    "create_directory_if_not_exists(os.path.join(path, 'Geometric Figures', ''))\n",
    "\n",
    "\n",
    "def solve_damaged_geometric_figure(damaged_geometric_figure: GeometricFigure) -> GeometricFigure:\n",
    "    gf = deepcopy(damaged_geometric_figure)\n",
    "    gf['image'] = np.repeat(gf['image'], 3, axis=2)\n",
    "    gf['filename'] = 'failed-' + gf['filename']\n",
    "    return gf\n",
    "\n",
    "\n",
    "new_geometric_figures = deepcopy(geometric_figures)\n",
    "new_geometric_figures.extend([solve_damaged_geometric_figure(gf) for gf in damaged_geometric_figures])\n",
    "\n",
    "for gf in new_geometric_figures:\n",
    "    plt.imsave(os.path.join(path, 'Geometric Figures', gf['filename']), gf['image'])"
   ]
  },
  {
   "cell_type": "code",
   "execution_count": null,
   "metadata": {},
   "outputs": [],
   "source": [
    "def convert_geometric_figure_to_data(geometric_figure: GeometricFigure) -> dict:\n",
    "    return {\n",
    "        'filename': geometric_figure['filename'],\n",
    "        'id': geometric_figure['id'],\n",
    "        'isFailed': geometric_figure['is_failed'],\n",
    "        'type': geometric_figure['category']\n",
    "    }\n",
    "\n",
    "\n",
    "data = [convert_geometric_figure_to_data(gf) for gf in new_geometric_figures]\n",
    "with open(os.path.join(path, 'data.json'), 'w') as f:\n",
    "    json.dump(data, f, indent=2)"
   ]
  }
 ],
 "metadata": {
  "kernelspec": {
   "display_name": "venv",
   "language": "python",
   "name": "python3"
  },
  "language_info": {
   "codemirror_mode": {
    "name": "ipython",
    "version": 3
   },
   "file_extension": ".py",
   "mimetype": "text/x-python",
   "name": "python",
   "nbconvert_exporter": "python",
   "pygments_lexer": "ipython3",
   "version": "3.7.6"
  },
  "orig_nbformat": 4
 },
 "nbformat": 4,
 "nbformat_minor": 2
}
