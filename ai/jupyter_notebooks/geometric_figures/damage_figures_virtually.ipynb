{
 "cells": [
  {
   "cell_type": "code",
   "execution_count": null,
   "metadata": {},
   "outputs": [],
   "source": [
    "from typing import List\n",
    "\n",
    "import numpy as np\n",
    "from matplotlib import pyplot as plt\n",
    "\n",
    "from src.models.geometric_figure import GeometricFigure\n",
    "from src.services.geometric_figure import (get_geometric_figures,\n",
    "                                           plot_geometric_figures,\n",
    "                                           preprocess_input)\n",
    "from src.utils import preprocess\n",
    "from src.utils import image_filters"
   ]
  },
  {
   "cell_type": "code",
   "execution_count": null,
   "metadata": {},
   "outputs": [],
   "source": [
    "IMAGE_SIZE = (128, 128)\n",
    "DATA_VERSION = '2023-04-12'"
   ]
  },
  {
   "cell_type": "code",
   "execution_count": null,
   "metadata": {},
   "outputs": [],
   "source": [
    "geometric_figures: List[GeometricFigure] = get_geometric_figures(f'data/{DATA_VERSION}', IMAGE_SIZE)\n",
    "print(f'Loaded {len(geometric_figures)} geometric figures')"
   ]
  },
  {
   "cell_type": "code",
   "execution_count": null,
   "metadata": {},
   "outputs": [],
   "source": [
    "def damage(image_array: np.ndarray) -> np.ndarray:\n",
    "    x = image_array.copy()\n",
    "    x = preprocess_input(x)\n",
    "    image_array_preprocessed = preprocess_input(image_array)\n",
    "\n",
    "    for _ in range(np.random.randint(20, 30)):\n",
    "        x = image_filters.add_random_polygon(x, np.random.randint(10, 20, 2))\n",
    "\n",
    "    x = preprocess.remove_stain(x, x.size*0.01)\n",
    "\n",
    "    if np.random.rand() < 0.5:\n",
    "        x = image_filters.add_noise(x, 0.01, np.random.randint(2, 4))\n",
    "    \n",
    "    similarity = np.sum(x == image_array_preprocessed) / x.size\n",
    "    if similarity >= 0.998:\n",
    "        return damage(image_array)\n",
    "\n",
    "    white_pixels = np.sum(x == 1)\n",
    "    similarity = 0\n",
    "    while white_pixels == 0 or similarity >= 0.998:\n",
    "        x = image_array.copy()\n",
    "        x = image_filters.add_noise(x, 0.01, np.random.randint(2, 4))\n",
    "        x = preprocess_input(x)\n",
    "        white_pixels = np.sum(x == 1)\n",
    "        similarity = np.sum(x == image_array_preprocessed) / x.size\n",
    "\n",
    "    return x"
   ]
  },
  {
   "cell_type": "code",
   "execution_count": null,
   "metadata": {},
   "outputs": [],
   "source": [
    "number_of_plots = 7*10\n",
    "columns = 7\n",
    "random_geometric_figures = [geometric_figures[i] for i in np.random.randint(0, len(geometric_figures), number_of_plots)]\n",
    "# plot_geometric_figures(random_geometric_figures, columns, cmap='gray')\n",
    "plot_geometric_figures(random_geometric_figures, columns, preprocess=damage, cmap='gray')\n",
    "plt.show()"
   ]
  }
 ],
 "metadata": {
  "kernelspec": {
   "display_name": "venv",
   "language": "python",
   "name": "python3"
  },
  "language_info": {
   "codemirror_mode": {
    "name": "ipython",
    "version": 3
   },
   "file_extension": ".py",
   "mimetype": "text/x-python",
   "name": "python",
   "nbconvert_exporter": "python",
   "pygments_lexer": "ipython3",
   "version": "3.7.6"
  },
  "orig_nbformat": 4
 },
 "nbformat": 4,
 "nbformat_minor": 2
}
