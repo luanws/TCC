{
 "cells": [
  {
   "cell_type": "code",
   "execution_count": null,
   "metadata": {},
   "outputs": [],
   "source": [
    "import math\n",
    "from copy import deepcopy\n",
    "from typing import List, Tuple\n",
    "\n",
    "import numpy as np\n",
    "from matplotlib import pyplot as plt\n",
    "from tensorflow import keras\n",
    "\n",
    "from src.models.geometric_figure import GeometricFigure\n",
    "from src.services.geometric_figure import (get_geometric_figures,\n",
    "                                           plot_geometric_figures,\n",
    "                                           prediction_to_category,\n",
    "                                           get_input_and_output,\n",
    "                                           plot_geometric_figures_processed,\n",
    "                                           geometric_figure_to_category_number)"
   ]
  },
  {
   "cell_type": "code",
   "execution_count": null,
   "metadata": {},
   "outputs": [],
   "source": [
    "IMAGE_SIZE = (128, 128)\n",
    "DATA_VERSION = '2023-04-03'\n",
    "MODEL_PATH = 'data/models/2023-04-03/CNN2/2023-04-10 09-49-03.h5'"
   ]
  },
  {
   "cell_type": "code",
   "execution_count": null,
   "metadata": {},
   "outputs": [],
   "source": [
    "geometric_figures: List[GeometricFigure] = get_geometric_figures(f'data/{DATA_VERSION}', IMAGE_SIZE)\n",
    "print(f'Loaded {len(geometric_figures)} geometric figures')"
   ]
  },
  {
   "cell_type": "code",
   "execution_count": null,
   "metadata": {},
   "outputs": [],
   "source": [
    "model = keras.models.load_model(MODEL_PATH)"
   ]
  },
  {
   "cell_type": "code",
   "execution_count": null,
   "metadata": {},
   "outputs": [],
   "source": [
    "x, y = zip(*[get_input_and_output(gf) for gf in geometric_figures])\n",
    "x = np.array(x)\n",
    "y = np.array(y)\n",
    "loss, accuracy = model.evaluate(x, y)\n",
    "print(f'Loss: {loss:.2f}')\n",
    "print(f'Accuracy: {accuracy:.2%}')"
   ]
  },
  {
   "cell_type": "code",
   "execution_count": null,
   "metadata": {},
   "outputs": [],
   "source": [
    "geometric_figures_error_predictions: List[Tuple[GeometricFigure, str]] = []\n",
    "predictions = model.predict(x)\n",
    "for i, prediction in enumerate(predictions):\n",
    "    prediction_category_number = np.argmax(prediction)\n",
    "    correct_category_number = geometric_figure_to_category_number(geometric_figures[i])\n",
    "    if prediction_category_number != correct_category_number:\n",
    "        geometric_figures_error_predictions.append((geometric_figures[i], prediction_to_category(prediction)))\n",
    "print(f'Predicted {len(geometric_figures_error_predictions)} geometric figures with error')"
   ]
  },
  {
   "cell_type": "code",
   "execution_count": null,
   "metadata": {},
   "outputs": [],
   "source": [
    "plot_size = 3\n",
    "columns = 7\n",
    "rows = math.ceil(len(geometric_figures_error_predictions)/columns)\n",
    "error_geometric_figures: List[GeometricFigure] = []\n",
    "for gf, prediction in geometric_figures_error_predictions:\n",
    "    new_gf = deepcopy(gf)\n",
    "    new_gf['category'] = prediction\n",
    "    error_geometric_figures.append(new_gf)\n",
    "if len(error_geometric_figures) > 0:\n",
    "    plot_geometric_figures(error_geometric_figures, columns, plot_size)\n",
    "    plt.show()\n",
    "    plot_geometric_figures_processed(error_geometric_figures, columns, plot_size, cmap='gray')\n",
    "    plt.show()"
   ]
  }
 ],
 "metadata": {
  "kernelspec": {
   "display_name": "venv",
   "language": "python",
   "name": "python3"
  },
  "language_info": {
   "codemirror_mode": {
    "name": "ipython",
    "version": 3
   },
   "file_extension": ".py",
   "mimetype": "text/x-python",
   "name": "python",
   "nbconvert_exporter": "python",
   "pygments_lexer": "ipython3",
   "version": "3.7.6"
  },
  "orig_nbformat": 4
 },
 "nbformat": 4,
 "nbformat_minor": 2
}
