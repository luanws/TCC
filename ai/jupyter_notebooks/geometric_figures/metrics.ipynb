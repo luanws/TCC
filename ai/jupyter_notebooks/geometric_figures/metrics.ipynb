{
 "cells": [
  {
   "cell_type": "code",
   "execution_count": null,
   "metadata": {},
   "outputs": [],
   "source": [
    "from typing import List\n",
    "\n",
    "import numpy as np\n",
    "import seaborn as sns\n",
    "import tensorflow as tf\n",
    "from matplotlib import pyplot as plt\n",
    "from sklearn.metrics import (accuracy_score, confusion_matrix, f1_score,\n",
    "                             precision_score, recall_score)\n",
    "from tensorflow import keras\n",
    "\n",
    "from src.models.geometric_figure import GeometricFigure\n",
    "from src.services.geometric_figure import (get_geometric_figures,\n",
    "                                           get_train_test_validation_split)\n",
    "from src.utils.files import create_directory_if_not_exists"
   ]
  },
  {
   "cell_type": "code",
   "execution_count": null,
   "metadata": {},
   "outputs": [],
   "source": [
    "IMAGE_SIZE = (128, 128)\n",
    "TEST_RATIO = 0.2\n",
    "VALIDATION_RATIO = 0.1\n",
    "DATA_VERSION = '2023-04-24'\n",
    "MODEL_PATH = 'data/models/2023-04-24/CNN1/2023-04-25 03-11-23.h5'"
   ]
  },
  {
   "cell_type": "code",
   "execution_count": null,
   "metadata": {},
   "outputs": [],
   "source": [
    "geometric_figures: List[GeometricFigure] = get_geometric_figures(f'data/{DATA_VERSION}', IMAGE_SIZE)\n",
    "print(f'Loaded {len(geometric_figures)} geometric figures')"
   ]
  },
  {
   "cell_type": "code",
   "execution_count": null,
   "metadata": {},
   "outputs": [],
   "source": [
    "model = keras.models.load_model(MODEL_PATH)"
   ]
  },
  {
   "cell_type": "code",
   "execution_count": null,
   "metadata": {},
   "outputs": [],
   "source": [
    "x_train, y_train, x_test, y_test, x_validation, y_validation = get_train_test_validation_split(\n",
    "    geometric_figures,\n",
    "    test_ratio=TEST_RATIO,\n",
    "    validation_ratio=VALIDATION_RATIO,\n",
    "    shuffle=False\n",
    ")"
   ]
  },
  {
   "cell_type": "code",
   "execution_count": null,
   "metadata": {},
   "outputs": [],
   "source": [
    "predictions = model.predict(x_test)\n",
    "y_test_predicted = tf.argmax(predictions, axis=1).numpy()"
   ]
  },
  {
   "cell_type": "code",
   "execution_count": null,
   "metadata": {},
   "outputs": [],
   "source": [
    "accuracy = accuracy_score(y_test, y_test_predicted)\n",
    "precision = precision_score(y_test, y_test_predicted, average='weighted')\n",
    "recall = recall_score(y_test, y_test_predicted, average='weighted')\n",
    "f1 = f1_score(y_test, y_test_predicted, average='weighted')\n",
    "\n",
    "print(f'Acurácia: {accuracy:.2%}')\n",
    "print(f'Precisão: {precision:.2%}')\n",
    "print(f'Sensibilidade: {recall:.2%}')\n",
    "print(f'F1: {f1:.2%}')"
   ]
  },
  {
   "cell_type": "code",
   "execution_count": null,
   "metadata": {},
   "outputs": [],
   "source": [
    "confusion = confusion_matrix(y_test, y_test_predicted)\n",
    "labels = ['circle', 'square', 'triangle', 'failed circle', 'failed square', 'failed triangle']\n",
    "fig = plt.figure(figsize=(8, 6))\n",
    "sns.heatmap(confusion, annot=True, fmt='d', cmap='Blues', xticklabels=labels, yticklabels=labels)\n",
    "plt.title(f'Matriz de confusão - {DATA_VERSION}')\n",
    "plt.xlabel('Classe Prevista')\n",
    "plt.ylabel('Classe Verdadeira')\n",
    "path = f'data/confusion_matrix/{DATA_VERSION}.svg'\n",
    "create_directory_if_not_exists(path)\n",
    "fig.savefig(path, bbox_inches='tight', dpi=300)\n",
    "plt.show()"
   ]
  }
 ],
 "metadata": {
  "kernelspec": {
   "display_name": "venv",
   "language": "python",
   "name": "python3"
  },
  "language_info": {
   "codemirror_mode": {
    "name": "ipython",
    "version": 3
   },
   "file_extension": ".py",
   "mimetype": "text/x-python",
   "name": "python",
   "nbconvert_exporter": "python",
   "pygments_lexer": "ipython3",
   "version": "3.7.6"
  },
  "orig_nbformat": 4
 },
 "nbformat": 4,
 "nbformat_minor": 2
}
