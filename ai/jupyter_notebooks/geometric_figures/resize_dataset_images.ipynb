{
 "cells": [
  {
   "cell_type": "code",
   "execution_count": null,
   "metadata": {},
   "outputs": [],
   "source": [
    "import os\n",
    "from concurrent.futures import ThreadPoolExecutor\n",
    "from typing import Tuple\n",
    "\n",
    "from PIL import Image\n",
    "from termcolor import colored"
   ]
  },
  {
   "cell_type": "code",
   "execution_count": null,
   "metadata": {},
   "outputs": [],
   "source": [
    "IMAGE_SIZE = (512, 512)\n",
    "DATA_VERSIONS = ['2023-03-22', '2023-04-02', '2023-04-03']"
   ]
  },
  {
   "cell_type": "code",
   "execution_count": null,
   "metadata": {},
   "outputs": [],
   "source": [
    "def resize_image(path: str, image_size: Tuple[int, int]) -> None:\n",
    "    img = Image.open(path)\n",
    "    img = img.resize(image_size)\n",
    "    img.save(path)\n",
    "\n",
    "\n",
    "def resize_dataset_images(path: str, image_size: Tuple[int, int]) -> None:\n",
    "    image_path_list = [os.path.join(path, filename) for filename in os.listdir(path)]\n",
    "    with ThreadPoolExecutor() as executor:\n",
    "        executor.map(lambda image_path: resize_image(image_path, image_size), image_path_list)\n",
    "\n",
    "for version in DATA_VERSIONS:\n",
    "    path = os.path.join('data', version, 'Geometric Figures')\n",
    "    print(f'Resizing images from dataset {colored(version, \"yellow\")}...')\n",
    "    resize_dataset_images(path, IMAGE_SIZE)\n",
    "    print(f'Images from dataset {colored(version, \"green\")} resized.')"
   ]
  }
 ],
 "metadata": {
  "kernelspec": {
   "display_name": "venv",
   "language": "python",
   "name": "python3"
  },
  "language_info": {
   "codemirror_mode": {
    "name": "ipython",
    "version": 3
   },
   "file_extension": ".py",
   "mimetype": "text/x-python",
   "name": "python",
   "nbconvert_exporter": "python",
   "pygments_lexer": "ipython3",
   "version": "3.7.6"
  },
  "orig_nbformat": 4
 },
 "nbformat": 4,
 "nbformat_minor": 2
}
