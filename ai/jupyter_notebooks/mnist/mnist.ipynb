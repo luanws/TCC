{
 "cells": [
  {
   "cell_type": "code",
   "execution_count": 1,
   "metadata": {},
   "outputs": [],
   "source": [
    "import numpy as np\n",
    "from tensorflow import keras\n",
    "from tensorflow.keras import layers\n",
    "from matplotlib import pyplot as plt"
   ]
  },
  {
   "cell_type": "code",
   "execution_count": 2,
   "metadata": {},
   "outputs": [],
   "source": [
    "np.set_printoptions(formatter={\"float\": \"{: 0.2f}\".format})"
   ]
  },
  {
   "cell_type": "code",
   "execution_count": 3,
   "metadata": {},
   "outputs": [],
   "source": [
    "(x_train, y_train), (x_test, y_test) = keras.datasets.mnist.load_data()\n",
    "\n",
    "x_train = x_train.reshape(60000, 28**2).astype(\"float32\")/255\n",
    "x_test = x_test.reshape(10000, 28**2).astype(\"float32\")/255\n",
    "\n",
    "y_train = y_train.astype(\"float32\")\n",
    "y_test = y_test.astype(\"float32\")\n",
    "\n",
    "x_validation = x_train[:10000]\n",
    "x_train = x_train[10000:]\n",
    "\n",
    "y_validation = y_train[:10000]\n",
    "y_train = y_train[10000:]"
   ]
  },
  {
   "cell_type": "code",
   "execution_count": 4,
   "metadata": {},
   "outputs": [
    {
     "name": "stdout",
     "output_type": "stream",
     "text": [
      "Model: \"sequential\"\n",
      "_________________________________________________________________\n",
      "Layer (type)                 Output Shape              Param #   \n",
      "=================================================================\n",
      "dense (Dense)                (None, 256)               200960    \n",
      "_________________________________________________________________\n",
      "dense_1 (Dense)              (None, 256)               65792     \n",
      "_________________________________________________________________\n",
      "dense_2 (Dense)              (None, 10)                2570      \n",
      "=================================================================\n",
      "Total params: 269,322\n",
      "Trainable params: 269,322\n",
      "Non-trainable params: 0\n",
      "_________________________________________________________________\n"
     ]
    }
   ],
   "source": [
    "model = keras.Sequential([\n",
    "    keras.Input(shape=(28**2,)),\n",
    "    layers.Dense(256, activation=\"relu\"),\n",
    "    layers.Dense(256, activation=\"relu\"),\n",
    "    layers.Dense(10, activation=\"softmax\"),\n",
    "])\n",
    "model.compile(\n",
    "    optimizer=keras.optimizers.Adam(),\n",
    "    loss=keras.losses.SparseCategoricalCrossentropy(),\n",
    "    metrics=[keras.metrics.SparseCategoricalAccuracy()],\n",
    ")\n",
    "model.summary()"
   ]
  },
  {
   "cell_type": "code",
   "execution_count": 5,
   "metadata": {},
   "outputs": [
    {
     "name": "stdout",
     "output_type": "stream",
     "text": [
      "Epoch 1/20\n",
      "50/50 [==============================] - 2s 23ms/step - loss: 0.6400 - sparse_categorical_accuracy: 0.8268 - val_loss: 0.2702 - val_sparse_categorical_accuracy: 0.9205\n",
      "Epoch 2/20\n",
      "50/50 [==============================] - 1s 30ms/step - loss: 0.2187 - sparse_categorical_accuracy: 0.9370 - val_loss: 0.1847 - val_sparse_categorical_accuracy: 0.9452\n",
      "Epoch 3/20\n",
      "50/50 [==============================] - 2s 36ms/step - loss: 0.1589 - sparse_categorical_accuracy: 0.9537 - val_loss: 0.1493 - val_sparse_categorical_accuracy: 0.9547\n",
      "Epoch 4/20\n",
      "50/50 [==============================] - 1s 23ms/step - loss: 0.1236 - sparse_categorical_accuracy: 0.9645 - val_loss: 0.1252 - val_sparse_categorical_accuracy: 0.9651\n",
      "Epoch 5/20\n",
      "50/50 [==============================] - 2s 34ms/step - loss: 0.0979 - sparse_categorical_accuracy: 0.9725 - val_loss: 0.1178 - val_sparse_categorical_accuracy: 0.9656\n",
      "Epoch 6/20\n",
      "50/50 [==============================] - 2s 32ms/step - loss: 0.0796 - sparse_categorical_accuracy: 0.9772 - val_loss: 0.0985 - val_sparse_categorical_accuracy: 0.9713\n",
      "Epoch 7/20\n",
      "50/50 [==============================] - 2s 42ms/step - loss: 0.0665 - sparse_categorical_accuracy: 0.9810 - val_loss: 0.0908 - val_sparse_categorical_accuracy: 0.9737\n",
      "Epoch 8/20\n",
      "50/50 [==============================] - 1s 25ms/step - loss: 0.0561 - sparse_categorical_accuracy: 0.9837 - val_loss: 0.0957 - val_sparse_categorical_accuracy: 0.9732\n",
      "Epoch 9/20\n",
      "50/50 [==============================] - 2s 36ms/step - loss: 0.0461 - sparse_categorical_accuracy: 0.9872 - val_loss: 0.0816 - val_sparse_categorical_accuracy: 0.9764\n",
      "Epoch 10/20\n",
      "50/50 [==============================] - 1s 23ms/step - loss: 0.0390 - sparse_categorical_accuracy: 0.9894 - val_loss: 0.0809 - val_sparse_categorical_accuracy: 0.9759\n",
      "Epoch 11/20\n",
      "50/50 [==============================] - 1s 28ms/step - loss: 0.0328 - sparse_categorical_accuracy: 0.9913 - val_loss: 0.0809 - val_sparse_categorical_accuracy: 0.9758\n",
      "Epoch 12/20\n",
      "50/50 [==============================] - 1s 23ms/step - loss: 0.0275 - sparse_categorical_accuracy: 0.9931 - val_loss: 0.0837 - val_sparse_categorical_accuracy: 0.9749\n",
      "Epoch 13/20\n",
      "50/50 [==============================] - 1s 26ms/step - loss: 0.0235 - sparse_categorical_accuracy: 0.9944 - val_loss: 0.0769 - val_sparse_categorical_accuracy: 0.9767\n",
      "Epoch 14/20\n",
      "50/50 [==============================] - 1s 26ms/step - loss: 0.0201 - sparse_categorical_accuracy: 0.9955 - val_loss: 0.0753 - val_sparse_categorical_accuracy: 0.9784\n",
      "Epoch 15/20\n",
      "50/50 [==============================] - 1s 23ms/step - loss: 0.0169 - sparse_categorical_accuracy: 0.9962 - val_loss: 0.0819 - val_sparse_categorical_accuracy: 0.9763\n",
      "Epoch 16/20\n",
      "50/50 [==============================] - 1s 22ms/step - loss: 0.0143 - sparse_categorical_accuracy: 0.9971 - val_loss: 0.0800 - val_sparse_categorical_accuracy: 0.9779\n",
      "Epoch 17/20\n",
      "50/50 [==============================] - 1s 22ms/step - loss: 0.0114 - sparse_categorical_accuracy: 0.9980 - val_loss: 0.0771 - val_sparse_categorical_accuracy: 0.9791\n",
      "Epoch 18/20\n",
      "50/50 [==============================] - 1s 22ms/step - loss: 0.0093 - sparse_categorical_accuracy: 0.9986 - val_loss: 0.0770 - val_sparse_categorical_accuracy: 0.9789\n",
      "Epoch 19/20\n",
      "50/50 [==============================] - 1s 24ms/step - loss: 0.0081 - sparse_categorical_accuracy: 0.9988 - val_loss: 0.0776 - val_sparse_categorical_accuracy: 0.9790\n",
      "Epoch 20/20\n",
      "50/50 [==============================] - 1s 22ms/step - loss: 0.0064 - sparse_categorical_accuracy: 0.9994 - val_loss: 0.0784 - val_sparse_categorical_accuracy: 0.9797\n"
     ]
    }
   ],
   "source": [
    "history = model.fit(\n",
    "    x_train, y_train,\n",
    "    epochs=20, batch_size=1000,\n",
    "    validation_data=(x_validation, y_validation)\n",
    ")"
   ]
  },
  {
   "cell_type": "code",
   "execution_count": 6,
   "metadata": {},
   "outputs": [
    {
     "name": "stdout",
     "output_type": "stream",
     "text": [
      "313/313 [==============================] - 1s 2ms/step - loss: 0.0789 - sparse_categorical_accuracy: 0.9788A: 0s - loss: 0.0827 - sparse_categorical_accuracy: 0.97 - ETA: 0s - loss: 0.0768 - sparse_categorical_accuracy: 0.979\n"
     ]
    },
    {
     "data": {
      "text/plain": [
       "[0.07889638841152191, 0.9787999987602234]"
      ]
     },
     "execution_count": 6,
     "metadata": {},
     "output_type": "execute_result"
    }
   ],
   "source": [
    "model.evaluate(x_test, y_test)"
   ]
  },
  {
   "cell_type": "code",
   "execution_count": 7,
   "metadata": {},
   "outputs": [],
   "source": [
    "model.save(\"mnist_model.h5\")"
   ]
  }
 ],
 "metadata": {
  "kernelspec": {
   "display_name": "Python 3.7.6 ('venv': venv)",
   "language": "python",
   "name": "python3"
  },
  "language_info": {
   "codemirror_mode": {
    "name": "ipython",
    "version": 3
   },
   "file_extension": ".py",
   "mimetype": "text/x-python",
   "name": "python",
   "nbconvert_exporter": "python",
   "pygments_lexer": "ipython3",
   "version": "3.7.6"
  },
  "orig_nbformat": 4,
  "vscode": {
   "interpreter": {
    "hash": "af2595448db622aaabc5c155c928c4698aa39107b44f898c4542a1f657e969e5"
   }
  }
 },
 "nbformat": 4,
 "nbformat_minor": 2
}
